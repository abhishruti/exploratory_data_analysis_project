{
  "nbformat": 4,
  "nbformat_minor": 0,
  "metadata": {
    "colab": {
      "name": "EDA_project.ipynb",
      "provenance": []
    },
    "kernelspec": {
      "name": "python3",
      "display_name": "Python 3"
    },
    "language_info": {
      "name": "python"
    }
  },
  "cells": [
    {
      "cell_type": "markdown",
      "metadata": {
        "id": "n3pjucHTc4Iz"
      },
      "source": [
        "## Exploratory Data Analysis"
      ]
    },
    {
      "cell_type": "markdown",
      "metadata": {
        "id": "1-jLcDB1k-zW"
      },
      "source": [
        "Dataset description:\n",
        "\n",
        "1. **id** - a unique identifier for each trip\n",
        "\n",
        "2. **vendor_id** - a code indicating the provider associated with the trip record\n",
        "\n",
        "3. **pickup_datetime** - date and time when the meter was engaged\n",
        "\n",
        "4. **dropoff_datetime** - date and time when the meter was disengaged\n",
        "\n",
        "5. **passenger_count** - the number of passengers in the vehicle (driver entered value)\n",
        "\n",
        "6. **pickup_longitude** - the longitude where the meter was engaged\n",
        "\n",
        "7. **pickup_latitude** - the latitude where the meter was engaged\n",
        "\n",
        "8. **dropoff_longitude** - the longitude where the meter was disengaged\n",
        "\n",
        "9. **dropoff_latitude** - the latitude where the meter was disengaged\n",
        "\n",
        "10. **store_and_fwd_flag** - This flag indicates whether the trip record was held in vehicle memory before sending to the vendor because the vehicle did not have a connection to the server (Y=store and forward; N=not a store and forward trip)\n",
        "\n",
        "11. **trip_duration** - (target) duration of the trip in seconds"
      ]
    },
    {
      "cell_type": "markdown",
      "metadata": {
        "id": "z9HX533FdAAs"
      },
      "source": [
        "Loading libraries"
      ]
    },
    {
      "cell_type": "code",
      "metadata": {
        "id": "8NjxKlVh-gaU"
      },
      "source": [
        "import pandas as pd\n",
        "import numpy as np\n",
        "\n",
        "import matplotlib.pyplot as plt\n",
        "import seaborn as sns\n",
        "\n",
        "import warnings\n",
        "warnings.filterwarnings('ignore')"
      ],
      "execution_count": 45,
      "outputs": []
    },
    {
      "cell_type": "markdown",
      "metadata": {
        "id": "8c1jUNaRAPA_"
      },
      "source": [
        "Loading data"
      ]
    },
    {
      "cell_type": "code",
      "metadata": {
        "colab": {
          "base_uri": "https://localhost:8080/",
          "height": 0
        },
        "id": "NkxthIst2Cc4",
        "outputId": "bf5f1a9c-3465-443a-cf28-38a93375b0bd"
      },
      "source": [
        "# extracting dataset from the zip file\n",
        "\n",
        "!unzip \"/content/EDA_NYC_Taxi (1).zip\" -d \"/content/\""
      ],
      "execution_count": 2,
      "outputs": [
        {
          "output_type": "stream",
          "name": "stdout",
          "text": [
            "Archive:  /content/EDA_NYC_Taxi (1).zip\n",
            "  inflating: /content/nyc_taxi_trip_duration.csv  \n"
          ]
        }
      ]
    },
    {
      "cell_type": "code",
      "metadata": {
        "id": "kkaCFsBIAIQw"
      },
      "source": [
        "# loading dataset\n",
        "\n",
        "df = pd.read_csv('/content/nyc_taxi_trip_duration.csv')"
      ],
      "execution_count": 50,
      "outputs": []
    },
    {
      "cell_type": "markdown",
      "metadata": {
        "id": "YSolDMladrL1"
      },
      "source": [
        "Understanding the contents of the dataset"
      ]
    },
    {
      "cell_type": "code",
      "metadata": {
        "id": "Snli8W0Q5ZBJ",
        "colab": {
          "base_uri": "https://localhost:8080/",
          "height": 0
        },
        "outputId": "4697f0a8-ef59-4249-a55d-9da6d6215c5a"
      },
      "source": [
        "print(\"No. of rows: \", df.shape[0])\n",
        "print(\"No. of columns: \", df.shape[1])"
      ],
      "execution_count": 21,
      "outputs": [
        {
          "output_type": "stream",
          "name": "stdout",
          "text": [
            "No. of rows:  729322\n",
            "No. of columns:  11\n"
          ]
        }
      ]
    },
    {
      "cell_type": "code",
      "metadata": {
        "colab": {
          "base_uri": "https://localhost:8080/",
          "height": 309
        },
        "id": "Bdi1WCrge7eW",
        "outputId": "7488a2f4-b66b-4e44-d776-126f20125497"
      },
      "source": [
        "# printing the first five rows\n",
        "df.head()"
      ],
      "execution_count": 22,
      "outputs": [
        {
          "output_type": "execute_result",
          "data": {
            "text/html": [
              "<div>\n",
              "<style scoped>\n",
              "    .dataframe tbody tr th:only-of-type {\n",
              "        vertical-align: middle;\n",
              "    }\n",
              "\n",
              "    .dataframe tbody tr th {\n",
              "        vertical-align: top;\n",
              "    }\n",
              "\n",
              "    .dataframe thead th {\n",
              "        text-align: right;\n",
              "    }\n",
              "</style>\n",
              "<table border=\"1\" class=\"dataframe\">\n",
              "  <thead>\n",
              "    <tr style=\"text-align: right;\">\n",
              "      <th></th>\n",
              "      <th>id</th>\n",
              "      <th>vendor_id</th>\n",
              "      <th>pickup_datetime</th>\n",
              "      <th>dropoff_datetime</th>\n",
              "      <th>passenger_count</th>\n",
              "      <th>pickup_longitude</th>\n",
              "      <th>pickup_latitude</th>\n",
              "      <th>dropoff_longitude</th>\n",
              "      <th>dropoff_latitude</th>\n",
              "      <th>store_and_fwd_flag</th>\n",
              "      <th>trip_duration</th>\n",
              "    </tr>\n",
              "  </thead>\n",
              "  <tbody>\n",
              "    <tr>\n",
              "      <th>0</th>\n",
              "      <td>id1080784</td>\n",
              "      <td>2</td>\n",
              "      <td>2016-02-29 16:40:21</td>\n",
              "      <td>2016-02-29 16:47:01</td>\n",
              "      <td>1</td>\n",
              "      <td>-73.953918</td>\n",
              "      <td>40.778873</td>\n",
              "      <td>-73.963875</td>\n",
              "      <td>40.771164</td>\n",
              "      <td>N</td>\n",
              "      <td>400</td>\n",
              "    </tr>\n",
              "    <tr>\n",
              "      <th>1</th>\n",
              "      <td>id0889885</td>\n",
              "      <td>1</td>\n",
              "      <td>2016-03-11 23:35:37</td>\n",
              "      <td>2016-03-11 23:53:57</td>\n",
              "      <td>2</td>\n",
              "      <td>-73.988312</td>\n",
              "      <td>40.731743</td>\n",
              "      <td>-73.994751</td>\n",
              "      <td>40.694931</td>\n",
              "      <td>N</td>\n",
              "      <td>1100</td>\n",
              "    </tr>\n",
              "    <tr>\n",
              "      <th>2</th>\n",
              "      <td>id0857912</td>\n",
              "      <td>2</td>\n",
              "      <td>2016-02-21 17:59:33</td>\n",
              "      <td>2016-02-21 18:26:48</td>\n",
              "      <td>2</td>\n",
              "      <td>-73.997314</td>\n",
              "      <td>40.721458</td>\n",
              "      <td>-73.948029</td>\n",
              "      <td>40.774918</td>\n",
              "      <td>N</td>\n",
              "      <td>1635</td>\n",
              "    </tr>\n",
              "    <tr>\n",
              "      <th>3</th>\n",
              "      <td>id3744273</td>\n",
              "      <td>2</td>\n",
              "      <td>2016-01-05 09:44:31</td>\n",
              "      <td>2016-01-05 10:03:32</td>\n",
              "      <td>6</td>\n",
              "      <td>-73.961670</td>\n",
              "      <td>40.759720</td>\n",
              "      <td>-73.956779</td>\n",
              "      <td>40.780628</td>\n",
              "      <td>N</td>\n",
              "      <td>1141</td>\n",
              "    </tr>\n",
              "    <tr>\n",
              "      <th>4</th>\n",
              "      <td>id0232939</td>\n",
              "      <td>1</td>\n",
              "      <td>2016-02-17 06:42:23</td>\n",
              "      <td>2016-02-17 06:56:31</td>\n",
              "      <td>1</td>\n",
              "      <td>-74.017120</td>\n",
              "      <td>40.708469</td>\n",
              "      <td>-73.988182</td>\n",
              "      <td>40.740631</td>\n",
              "      <td>N</td>\n",
              "      <td>848</td>\n",
              "    </tr>\n",
              "  </tbody>\n",
              "</table>\n",
              "</div>"
            ],
            "text/plain": [
              "          id  vendor_id  ... store_and_fwd_flag trip_duration\n",
              "0  id1080784          2  ...                  N           400\n",
              "1  id0889885          1  ...                  N          1100\n",
              "2  id0857912          2  ...                  N          1635\n",
              "3  id3744273          2  ...                  N          1141\n",
              "4  id0232939          1  ...                  N           848\n",
              "\n",
              "[5 rows x 11 columns]"
            ]
          },
          "metadata": {},
          "execution_count": 22
        }
      ]
    },
    {
      "cell_type": "code",
      "metadata": {
        "colab": {
          "base_uri": "https://localhost:8080/",
          "height": 309
        },
        "id": "e5_IslkefF8P",
        "outputId": "8f665a49-7007-451b-8b5c-611c902f1ef3"
      },
      "source": [
        "# printing the last five rows\n",
        "df.tail()"
      ],
      "execution_count": 23,
      "outputs": [
        {
          "output_type": "execute_result",
          "data": {
            "text/html": [
              "<div>\n",
              "<style scoped>\n",
              "    .dataframe tbody tr th:only-of-type {\n",
              "        vertical-align: middle;\n",
              "    }\n",
              "\n",
              "    .dataframe tbody tr th {\n",
              "        vertical-align: top;\n",
              "    }\n",
              "\n",
              "    .dataframe thead th {\n",
              "        text-align: right;\n",
              "    }\n",
              "</style>\n",
              "<table border=\"1\" class=\"dataframe\">\n",
              "  <thead>\n",
              "    <tr style=\"text-align: right;\">\n",
              "      <th></th>\n",
              "      <th>id</th>\n",
              "      <th>vendor_id</th>\n",
              "      <th>pickup_datetime</th>\n",
              "      <th>dropoff_datetime</th>\n",
              "      <th>passenger_count</th>\n",
              "      <th>pickup_longitude</th>\n",
              "      <th>pickup_latitude</th>\n",
              "      <th>dropoff_longitude</th>\n",
              "      <th>dropoff_latitude</th>\n",
              "      <th>store_and_fwd_flag</th>\n",
              "      <th>trip_duration</th>\n",
              "    </tr>\n",
              "  </thead>\n",
              "  <tbody>\n",
              "    <tr>\n",
              "      <th>729317</th>\n",
              "      <td>id3905982</td>\n",
              "      <td>2</td>\n",
              "      <td>2016-05-21 13:29:38</td>\n",
              "      <td>2016-05-21 13:34:34</td>\n",
              "      <td>2</td>\n",
              "      <td>-73.965919</td>\n",
              "      <td>40.789780</td>\n",
              "      <td>-73.952637</td>\n",
              "      <td>40.789181</td>\n",
              "      <td>N</td>\n",
              "      <td>296</td>\n",
              "    </tr>\n",
              "    <tr>\n",
              "      <th>729318</th>\n",
              "      <td>id0102861</td>\n",
              "      <td>1</td>\n",
              "      <td>2016-02-22 00:43:11</td>\n",
              "      <td>2016-02-22 00:48:26</td>\n",
              "      <td>1</td>\n",
              "      <td>-73.996666</td>\n",
              "      <td>40.737434</td>\n",
              "      <td>-74.001320</td>\n",
              "      <td>40.731911</td>\n",
              "      <td>N</td>\n",
              "      <td>315</td>\n",
              "    </tr>\n",
              "    <tr>\n",
              "      <th>729319</th>\n",
              "      <td>id0439699</td>\n",
              "      <td>1</td>\n",
              "      <td>2016-04-15 18:56:48</td>\n",
              "      <td>2016-04-15 19:08:01</td>\n",
              "      <td>1</td>\n",
              "      <td>-73.997849</td>\n",
              "      <td>40.761696</td>\n",
              "      <td>-74.001488</td>\n",
              "      <td>40.741207</td>\n",
              "      <td>N</td>\n",
              "      <td>673</td>\n",
              "    </tr>\n",
              "    <tr>\n",
              "      <th>729320</th>\n",
              "      <td>id2078912</td>\n",
              "      <td>1</td>\n",
              "      <td>2016-06-19 09:50:47</td>\n",
              "      <td>2016-06-19 09:58:14</td>\n",
              "      <td>1</td>\n",
              "      <td>-74.006706</td>\n",
              "      <td>40.708244</td>\n",
              "      <td>-74.013550</td>\n",
              "      <td>40.713814</td>\n",
              "      <td>N</td>\n",
              "      <td>447</td>\n",
              "    </tr>\n",
              "    <tr>\n",
              "      <th>729321</th>\n",
              "      <td>id1053441</td>\n",
              "      <td>2</td>\n",
              "      <td>2016-01-01 17:24:16</td>\n",
              "      <td>2016-01-01 17:44:40</td>\n",
              "      <td>4</td>\n",
              "      <td>-74.003342</td>\n",
              "      <td>40.743839</td>\n",
              "      <td>-73.945847</td>\n",
              "      <td>40.712841</td>\n",
              "      <td>N</td>\n",
              "      <td>1224</td>\n",
              "    </tr>\n",
              "  </tbody>\n",
              "</table>\n",
              "</div>"
            ],
            "text/plain": [
              "               id  vendor_id  ... store_and_fwd_flag trip_duration\n",
              "729317  id3905982          2  ...                  N           296\n",
              "729318  id0102861          1  ...                  N           315\n",
              "729319  id0439699          1  ...                  N           673\n",
              "729320  id2078912          1  ...                  N           447\n",
              "729321  id1053441          2  ...                  N          1224\n",
              "\n",
              "[5 rows x 11 columns]"
            ]
          },
          "metadata": {},
          "execution_count": 23
        }
      ]
    },
    {
      "cell_type": "markdown",
      "metadata": {
        "id": "fg1knw05fXDJ"
      },
      "source": [
        "Missing values"
      ]
    },
    {
      "cell_type": "code",
      "metadata": {
        "colab": {
          "base_uri": "https://localhost:8080/",
          "height": 0
        },
        "id": "n6j9I24KfL20",
        "outputId": "03807ac6-4144-4a70-9eff-9f878bbedff2"
      },
      "source": [
        "# checking for the missing values\n",
        "\n",
        "print(\"No. of missing values in each columns: \\n\")\n",
        "print(df.isnull().sum())"
      ],
      "execution_count": 24,
      "outputs": [
        {
          "output_type": "stream",
          "name": "stdout",
          "text": [
            "No. of missing values in each columns: \n",
            "\n",
            "id                    0\n",
            "vendor_id             0\n",
            "pickup_datetime       0\n",
            "dropoff_datetime      0\n",
            "passenger_count       0\n",
            "pickup_longitude      0\n",
            "pickup_latitude       0\n",
            "dropoff_longitude     0\n",
            "dropoff_latitude      0\n",
            "store_and_fwd_flag    0\n",
            "trip_duration         0\n",
            "dtype: int64\n"
          ]
        }
      ]
    },
    {
      "cell_type": "markdown",
      "metadata": {
        "id": "Hy208_6VfrU9"
      },
      "source": [
        "There are no missing values present in any of the columns"
      ]
    },
    {
      "cell_type": "markdown",
      "metadata": {
        "id": "VfIPCVEZkEw2"
      },
      "source": [
        "Duplicated records"
      ]
    },
    {
      "cell_type": "code",
      "metadata": {
        "colab": {
          "base_uri": "https://localhost:8080/",
          "height": 0
        },
        "id": "F2DUrFyWfmrW",
        "outputId": "f7b6cbf7-c7ae-4f91-b563-6b3af875428b"
      },
      "source": [
        "# checking for the duplicate records\n",
        "print(\"No. of duplicate records: \", df.duplicated().sum())"
      ],
      "execution_count": 25,
      "outputs": [
        {
          "output_type": "stream",
          "name": "stdout",
          "text": [
            "No. of duplicate records:  0\n"
          ]
        }
      ]
    },
    {
      "cell_type": "markdown",
      "metadata": {
        "id": "OlR_BtSPkZ9H"
      },
      "source": [
        "There are no duplicate records present in the dataset"
      ]
    },
    {
      "cell_type": "markdown",
      "metadata": {
        "id": "2iN36MBIojYy"
      },
      "source": [
        "Datatypes of the features"
      ]
    },
    {
      "cell_type": "code",
      "metadata": {
        "colab": {
          "base_uri": "https://localhost:8080/",
          "height": 0
        },
        "id": "sWMajhEiomON",
        "outputId": "17971988-6006-4cc4-c67b-82cc1c200e5f"
      },
      "source": [
        "# checking the datatype of all features in the dataset\n",
        "\n",
        "df.dtypes"
      ],
      "execution_count": 26,
      "outputs": [
        {
          "output_type": "execute_result",
          "data": {
            "text/plain": [
              "id                     object\n",
              "vendor_id               int64\n",
              "pickup_datetime        object\n",
              "dropoff_datetime       object\n",
              "passenger_count         int64\n",
              "pickup_longitude      float64\n",
              "pickup_latitude       float64\n",
              "dropoff_longitude     float64\n",
              "dropoff_latitude      float64\n",
              "store_and_fwd_flag     object\n",
              "trip_duration           int64\n",
              "dtype: object"
            ]
          },
          "metadata": {},
          "execution_count": 26
        }
      ]
    },
    {
      "cell_type": "markdown",
      "metadata": {
        "id": "6nQgEeJZotff"
      },
      "source": [
        "**categorical variables:**\n",
        "\n",
        "id, pickup_datetime, dropoff_datetime, store_and_fwd_flag\n",
        "\n",
        "**continuous variables:**\n",
        "\n",
        "vendor_id, passenger_count, pickup_longitude, pickup_latitude dropoff_longitude, dropoff_latitude\n",
        "\n",
        "**target variable:** trip_duratation\n",
        "\n",
        "trip_duration is a continuos variable, which determines that the problem is a regression problem."
      ]
    },
    {
      "cell_type": "markdown",
      "metadata": {
        "id": "IXHTzwYoqAS-"
      },
      "source": [
        "### understanding categorical variable"
      ]
    },
    {
      "cell_type": "markdown",
      "metadata": {
        "id": "AkBvVzd0ltAj"
      },
      "source": [
        "Now, we will dive into each variable one by one.\n",
        "\n",
        "Starting off with id variable, since it is unique for every record, this feature is not important for the model."
      ]
    },
    {
      "cell_type": "markdown",
      "metadata": {
        "id": "2e5VJA1OmcFX"
      },
      "source": [
        "feature - pickup_datetime, dropoff_datetime"
      ]
    },
    {
      "cell_type": "code",
      "metadata": {
        "colab": {
          "base_uri": "https://localhost:8080/",
          "height": 0
        },
        "id": "Qik2t0PnmQzb",
        "outputId": "3c0bb9fc-2a7a-487a-e619-a482dc1a9465"
      },
      "source": [
        "# checking the datatype of the datetime feature\n",
        "print(df[['pickup_datetime', 'dropoff_datetime']].dtypes)"
      ],
      "execution_count": 16,
      "outputs": [
        {
          "output_type": "stream",
          "name": "stdout",
          "text": [
            "pickup_datetime     object\n",
            "dropoff_datetime    object\n",
            "dtype: object\n"
          ]
        }
      ]
    },
    {
      "cell_type": "markdown",
      "metadata": {
        "id": "C2B4eHaRnBm0"
      },
      "source": [
        "The datetime features have a datatype of string object and to extract features from these datetime variables, we need to first convert them into datetime datatype."
      ]
    },
    {
      "cell_type": "code",
      "metadata": {
        "id": "haUtnht7oEUb"
      },
      "source": [
        "# converting strings to datetime features\n",
        "\n",
        "df['pickup_datetime'] = pd.to_datetime(df.pickup_datetime)\n",
        "df['dropoff_datetime'] = pd.to_datetime(df.dropoff_datetime)"
      ],
      "execution_count": 51,
      "outputs": []
    },
    {
      "cell_type": "code",
      "metadata": {
        "colab": {
          "base_uri": "https://localhost:8080/",
          "height": 0
        },
        "id": "c5DwUI6QoJ3D",
        "outputId": "a09aff8d-43cd-4f4e-f7a0-fe7391dd84d8"
      },
      "source": [
        "# checking the datatype again\n",
        "\n",
        "print(df[['pickup_datetime', 'dropoff_datetime']].dtypes)"
      ],
      "execution_count": 18,
      "outputs": [
        {
          "output_type": "stream",
          "name": "stdout",
          "text": [
            "pickup_datetime     datetime64[ns]\n",
            "dropoff_datetime    datetime64[ns]\n",
            "dtype: object\n"
          ]
        }
      ]
    },
    {
      "cell_type": "markdown",
      "metadata": {
        "id": "2OCbOV2UqZJJ"
      },
      "source": [
        "feature - store_and_fwd_flag"
      ]
    },
    {
      "cell_type": "code",
      "metadata": {
        "colab": {
          "base_uri": "https://localhost:8080/",
          "height": 0
        },
        "id": "4_9j3a9wqfno",
        "outputId": "1075e767-3ca8-4915-e1e9-d196fa7e94f6"
      },
      "source": [
        "# checking the value count\n",
        "df['store_and_fwd_flag'].value_counts()"
      ],
      "execution_count": 27,
      "outputs": [
        {
          "output_type": "execute_result",
          "data": {
            "text/plain": [
              "N    725282\n",
              "Y      4040\n",
              "Name: store_and_fwd_flag, dtype: int64"
            ]
          },
          "metadata": {},
          "execution_count": 27
        }
      ]
    },
    {
      "cell_type": "markdown",
      "metadata": {
        "id": "9y7FGp0yqoJr"
      },
      "source": [
        "This variable contains Yes and No values only. This can be converted to numeric datatype using the label encoder\n",
        "\n",
        "The LabelEncoder() from sklearn.preprocessing will map N to 0 and Y to 1."
      ]
    },
    {
      "cell_type": "markdown",
      "metadata": {
        "id": "5L_nYsyirukL"
      },
      "source": [
        "### exploring the target variable"
      ]
    },
    {
      "cell_type": "code",
      "metadata": {
        "colab": {
          "base_uri": "https://localhost:8080/",
          "height": 0
        },
        "id": "-qs6fw9SrzCb",
        "outputId": "ce965e54-7412-4d60-fae6-430ad8d535e0"
      },
      "source": [
        "# trip duration in hour\n",
        "df['trip_duration'].describe()/3600"
      ],
      "execution_count": 30,
      "outputs": [
        {
          "output_type": "execute_result",
          "data": {
            "text/plain": [
              "count    202.589444\n",
              "mean       0.264508\n",
              "std        1.073507\n",
              "min        0.000278\n",
              "25%        0.110278\n",
              "50%        0.184167\n",
              "75%        0.298611\n",
              "max      538.815556\n",
              "Name: trip_duration, dtype: float64"
            ]
          },
          "metadata": {},
          "execution_count": 30
        }
      ]
    },
    {
      "cell_type": "markdown",
      "metadata": {
        "id": "A6_xF0U8sZS0"
      },
      "source": [
        "The maximum trip duration is of 538 hours which seems to be an outlier. To help the model make more accurate prediction, we need to log transform this feature."
      ]
    },
    {
      "cell_type": "code",
      "metadata": {
        "colab": {
          "base_uri": "https://localhost:8080/",
          "height": 345
        },
        "id": "4rqGyCldtTkC",
        "outputId": "a05fdbc4-bf6b-443f-e2d6-a05b630703c8"
      },
      "source": [
        "# before log transform\n",
        "sns.distplot(df['trip_duration'])\n",
        "plt.show()"
      ],
      "execution_count": 42,
      "outputs": [
        {
          "output_type": "stream",
          "name": "stderr",
          "text": [
            "/usr/local/lib/python3.7/dist-packages/seaborn/distributions.py:2619: FutureWarning: `distplot` is a deprecated function and will be removed in a future version. Please adapt your code to use either `displot` (a figure-level function with similar flexibility) or `histplot` (an axes-level function for histograms).\n",
            "  warnings.warn(msg, FutureWarning)\n"
          ]
        },
        {
          "output_type": "display_data",
          "data": {
            "image/png": "[encoded data removed]",
            "text/plain": [
              "<Figure size 432x288 with 1 Axes>"
            ]
          },
          "metadata": {
            "needs_background": "light"
          }
        }
      ]
    },
    {
      "cell_type": "code",
      "metadata": {
        "colab": {
          "base_uri": "https://localhost:8080/",
          "height": 280
        },
        "id": "RFb_3Ed1r4mJ",
        "outputId": "0ca52e13-d3c7-47a7-be38-a5eb6c86cd7c"
      },
      "source": [
        "# after log transform\n",
        "\n",
        "df['trip_duration_log'] = np.log(df['trip_duration'].values + 1)\n",
        "sns.distplot(df['trip_duration_log'], kde = False, bins = 200)\n",
        "plt.show()"
      ],
      "execution_count": 52,
      "outputs": [
        {
          "output_type": "display_data",
          "data": {
            "image/png": "[encoded data removed]",
            "text/plain": [
              "<Figure size 432x288 with 1 Axes>"
            ]
          },
          "metadata": {
            "needs_background": "light"
          }
        }
      ]
    },
    {
      "cell_type": "markdown",
      "metadata": {
        "id": "W3kZsaMUulbK"
      },
      "source": [
        "### Univariate analysis"
      ]
    },
    {
      "cell_type": "code",
      "metadata": {
        "colab": {
          "base_uri": "https://localhost:8080/",
          "height": 352
        },
        "id": "FAd8Ybbfs9cL",
        "outputId": "8647fbf2-8e63-433d-f960-7655fe219ef3"
      },
      "source": [
        "# Binary Features\n",
        "plt.figure(figsize=(20, 5))\n",
        "\n",
        "# Passenger Count\n",
        "plt.subplot(131)\n",
        "sns.countplot(df['passenger_count'])\n",
        "plt.xlabel('Passenger Count')\n",
        "plt.ylabel('Frequency')\n",
        "\n",
        "# vendor_id\n",
        "plt.subplot(132)\n",
        "sns.countplot(df['vendor_id'])\n",
        "plt.xlabel('vendor_id')\n",
        "plt.ylabel('Frequency')\n",
        "\n",
        "# store_and_fwd_flag\n",
        "plt.subplot(133)\n",
        "sns.countplot(df['store_and_fwd_flag'])\n",
        "plt.xlabel('store_and_fwd_flag')\n",
        "plt.ylabel('Frequency')"
      ],
      "execution_count": 46,
      "outputs": [
        {
          "output_type": "execute_result",
          "data": {
            "text/plain": [
              "Text(0, 0.5, 'Frequency')"
            ]
          },
          "metadata": {},
          "execution_count": 46
        },
        {
          "output_type": "display_data",
          "data": {
            "image/png": "[encoded data removed]",
            "text/plain": [
              "<Figure size 1440x360 with 3 Axes>"
            ]
          },
          "metadata": {
            "needs_background": "light"
          }
        }
      ]
    },
    {
      "cell_type": "markdown",
      "metadata": {
        "id": "I3HcXoqevF3i"
      },
      "source": [
        "Inferences:\n",
        "\n",
        "1. Most trips consists rides with 1 passenger only.\n",
        "2. Vendor 2 has more trips, compared to vendor 1\n",
        "3. The value with Y is very low in the store_and_fwd_flag variable. This suggests that almost no storing took place"
      ]
    },
    {
      "cell_type": "markdown",
      "metadata": {
        "id": "E-fyMSGjySdw"
      },
      "source": [
        "Checking the trip duration as per datetime feature"
      ]
    },
    {
      "cell_type": "code",
      "metadata": {
        "colab": {
          "base_uri": "https://localhost:8080/"
        },
        "id": "Sx6hpeTnyYIe",
        "outputId": "1e8e0fd2-cde4-4f6d-d266-98442c2883f9"
      },
      "source": [
        "print(\"Startdate: \", df['pickup_datetime'].min())\n",
        "print(\"Enddate: \", df['pickup_datetime'].max())"
      ],
      "execution_count": 54,
      "outputs": [
        {
          "output_type": "stream",
          "name": "stdout",
          "text": [
            "Startdate:  2016-01-01 00:01:14\n",
            "Enddate:  2016-06-30 23:59:37\n"
          ]
        }
      ]
    },
    {
      "cell_type": "markdown",
      "metadata": {
        "id": "LqZzvqw9yur2"
      },
      "source": [
        "The trip duration data is collected from the time period of first 6 months from the year 2016"
      ]
    },
    {
      "cell_type": "code",
      "metadata": {
        "colab": {
          "base_uri": "https://localhost:8080/",
          "height": 351
        },
        "id": "QldwI24hyuSk",
        "outputId": "fd1020d4-f0e5-4fe3-829c-15fe78ac1a69"
      },
      "source": [
        "# extracting more features from the datetime variable\n",
        "\n",
        "df['day_of_week'] = df['pickup_datetime'].dt.weekday\n",
        "df['hour_of_day'] = df['pickup_datetime'].dt.hour\n",
        "\n",
        "\n",
        "# Datetime features\n",
        "plt.figure(figsize=(20, 5))\n",
        "\n",
        "# Passenger Count\n",
        "plt.subplot(121)\n",
        "sns.countplot(df['day_of_week'])\n",
        "plt.xlabel('Week Day')\n",
        "plt.ylabel('Total Number of pickups')\n",
        "\n",
        "# vendor_id\n",
        "plt.subplot(122)\n",
        "sns.countplot(df['hour_of_day'])\n",
        "plt.xlabel('Hour of Day')\n",
        "plt.ylabel('Total number of pickups')"
      ],
      "execution_count": 55,
      "outputs": [
        {
          "output_type": "execute_result",
          "data": {
            "text/plain": [
              "Text(0, 0.5, 'Total number of pickups')"
            ]
          },
          "metadata": {},
          "execution_count": 55
        },
        {
          "output_type": "display_data",
          "data": {
            "image/png": "[encoded data removed]",
            "text/plain": [
              "<Figure size 1440x360 with 2 Axes>"
            ]
          },
          "metadata": {
            "needs_background": "light"
          }
        }
      ]
    },
    {
      "cell_type": "markdown",
      "metadata": {
        "id": "WN-GD6Cuzycr"
      },
      "source": [
        "Inferences:\n",
        "1. Weekdays have high trips compare to Saturday(6) and Sunday(0).\n",
        "\n",
        "2. Trip is on peak on Thursday(4).\n",
        "\n",
        "3. Trips are very low in early morning, while very high in the late evening hour in the day."
      ]
    },
    {
      "cell_type": "markdown",
      "metadata": {
        "id": "tQ9SQTlUxp8-"
      },
      "source": [
        "### correlation heatmap"
      ]
    },
    {
      "cell_type": "code",
      "metadata": {
        "colab": {
          "base_uri": "https://localhost:8080/",
          "height": 464
        },
        "id": "oLCGuacDuyj3",
        "outputId": "1b676e82-39f6-4ac2-85fc-745cea2bc0fc"
      },
      "source": [
        "# checking the correlation among all features\n",
        "\n",
        "plt.figure(figsize=(12, 6))\n",
        "df1 = df.drop(['id', 'pickup_datetime', 'dropoff_datetime', 'passenger_count','trip_duration_log'],\n",
        "        axis=1)\n",
        "corr = df1.apply(lambda x: pd.factorize(x)[0]).corr()\n",
        "ax = sns.heatmap(corr, xticklabels=corr.columns, yticklabels=corr.columns, \n",
        "                 linewidths=.2, cmap=\"YlGnBu\")"
      ],
      "execution_count": 53,
      "outputs": [
        {
          "output_type": "display_data",
          "data": {
            "image/png": "[encoded data removed]",
            "text/plain": [
              "<Figure size 864x432 with 2 Axes>"
            ]
          },
          "metadata": {
            "needs_background": "light"
          }
        }
      ]
    }
  ]
}